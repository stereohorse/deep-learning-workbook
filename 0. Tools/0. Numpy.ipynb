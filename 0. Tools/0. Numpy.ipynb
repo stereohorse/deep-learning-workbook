{
  "nbformat": 4,
  "nbformat_minor": 0,
  "metadata": {
    "colab": {
      "provenance": [],
      "authorship_tag": "ABX9TyMXfReYEB+2AD/g5fUJgK6k",
      "include_colab_link": true
    },
    "kernelspec": {
      "name": "python3",
      "display_name": "Python 3"
    },
    "language_info": {
      "name": "python"
    }
  },
  "cells": [
    {
      "cell_type": "markdown",
      "metadata": {
        "id": "view-in-github",
        "colab_type": "text"
      },
      "source": [
        "<a href=\"https://colab.research.google.com/github/stereohorse/deep-learning-workbook/blob/main/0.%20Tools/0.%20Numpy.ipynb\" target=\"_parent\"><img src=\"https://colab.research.google.com/assets/colab-badge.svg\" alt=\"Open In Colab\"/></a>"
      ]
    },
    {
      "cell_type": "markdown",
      "source": [
        "NumPy arrays can perform vectorized operations working on a whole array. In contrast with Python lists you have to loop through each element. Vectorized operations are faster than manual loop."
      ],
      "metadata": {
        "id": "Yv7Q_eecziTh"
      }
    },
    {
      "cell_type": "code",
      "execution_count": 3,
      "metadata": {
        "id": "x-Bwvfw0tV5K"
      },
      "outputs": [],
      "source": [
        "import numpy as np"
      ]
    },
    {
      "cell_type": "code",
      "source": [
        "arr = np.arange(100)          # array with a sequence of 100 integers, beginning with 0\n",
        "assert arr.dtype == 'int64'   # on 32 bit machine you may get 'int32'\n",
        "\n",
        "assert arr.shape == (100,)    # array dimensions"
      ],
      "metadata": {
        "id": "6A0FpNBM0anX"
      },
      "execution_count": 11,
      "outputs": []
    }
  ]
}